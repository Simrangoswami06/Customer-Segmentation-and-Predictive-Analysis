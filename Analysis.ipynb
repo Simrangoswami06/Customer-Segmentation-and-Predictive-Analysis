{
 "cells": [
  {
   "cell_type": "code",
   "execution_count": 43,
   "metadata": {},
   "outputs": [],
   "source": [
    "import numpy as np\n",
    "import pandas as pd\n",
    "import seaborn as sns\n",
    "import matplotlib.pyplot as plt\n",
    "%matplotlib inline"
   ]
  },
  {
   "cell_type": "code",
   "execution_count": 44,
   "metadata": {},
   "outputs": [],
   "source": [
    "df_products = pd.read_csv(\"cproducts.csv\")\n",
    "df_tender = pd.read_csv(\"ctender.csv\")"
   ]
  },
  {
   "cell_type": "code",
   "execution_count": 45,
   "metadata": {},
   "outputs": [
    {
     "data": {
      "text/html": [
       "<div>\n",
       "<style scoped>\n",
       "    .dataframe tbody tr th:only-of-type {\n",
       "        vertical-align: middle;\n",
       "    }\n",
       "\n",
       "    .dataframe tbody tr th {\n",
       "        vertical-align: top;\n",
       "    }\n",
       "\n",
       "    .dataframe thead th {\n",
       "        text-align: right;\n",
       "    }\n",
       "</style>\n",
       "<table border=\"1\" class=\"dataframe\">\n",
       "  <thead>\n",
       "    <tr style=\"text-align: right;\">\n",
       "      <th></th>\n",
       "      <th>customerID</th>\n",
       "      <th>DOB</th>\n",
       "      <th>Gender</th>\n",
       "      <th>State</th>\n",
       "      <th>PinCode</th>\n",
       "      <th>transactionDate</th>\n",
       "      <th>store_code</th>\n",
       "      <th>store_description</th>\n",
       "      <th>till_no</th>\n",
       "      <th>transaction_number_by_till</th>\n",
       "      <th>promo_code</th>\n",
       "      <th>promotion_description</th>\n",
       "      <th>product_code</th>\n",
       "      <th>product_description</th>\n",
       "      <th>sale_price_after_promo</th>\n",
       "      <th>discountUsed</th>\n",
       "    </tr>\n",
       "  </thead>\n",
       "  <tbody>\n",
       "    <tr>\n",
       "      <th>0</th>\n",
       "      <td>BBID_20482</td>\n",
       "      <td>1975-10-20</td>\n",
       "      <td>male</td>\n",
       "      <td>MADHYA PRADESH</td>\n",
       "      <td>453441.0</td>\n",
       "      <td>2016-05-01</td>\n",
       "      <td>2655</td>\n",
       "      <td>BB-INDORE-MALHAR MEGA MALL</td>\n",
       "      <td>2</td>\n",
       "      <td>85246</td>\n",
       "      <td>NONPROMO</td>\n",
       "      <td>NaN</td>\n",
       "      <td>1000446431</td>\n",
       "      <td>PATANJALI CHOCOS 125g</td>\n",
       "      <td>55.00</td>\n",
       "      <td>Payback</td>\n",
       "    </tr>\n",
       "    <tr>\n",
       "      <th>1</th>\n",
       "      <td>BBID_20485</td>\n",
       "      <td>1955-07-21</td>\n",
       "      <td>female</td>\n",
       "      <td>NaN</td>\n",
       "      <td>999999.0</td>\n",
       "      <td>2017-03-09</td>\n",
       "      <td>2655</td>\n",
       "      <td>BB-INDORE-MALHAR MEGA MALL</td>\n",
       "      <td>8</td>\n",
       "      <td>78829</td>\n",
       "      <td>NONPROMO</td>\n",
       "      <td>NaN</td>\n",
       "      <td>1000010431</td>\n",
       "      <td>SOO FRESH ROLLS HOT DOG 4P</td>\n",
       "      <td>30.00</td>\n",
       "      <td>Payback</td>\n",
       "    </tr>\n",
       "    <tr>\n",
       "      <th>2</th>\n",
       "      <td>BBID_20498</td>\n",
       "      <td>1981-03-19</td>\n",
       "      <td>female</td>\n",
       "      <td>MAHARASHTRA</td>\n",
       "      <td>400064.0</td>\n",
       "      <td>2015-08-12</td>\n",
       "      <td>2655</td>\n",
       "      <td>BB-INDORE-MALHAR MEGA MALL</td>\n",
       "      <td>13</td>\n",
       "      <td>1064</td>\n",
       "      <td>0000971754</td>\n",
       "      <td>AD 399 FLAT LADIES JEANS  FASHION EXC</td>\n",
       "      <td>1000077851005</td>\n",
       "      <td>DLJ-0010-BSF-2-CJ-FL, 34, BLACK</td>\n",
       "      <td>418.95</td>\n",
       "      <td>Payback</td>\n",
       "    </tr>\n",
       "    <tr>\n",
       "      <th>3</th>\n",
       "      <td>BBID_20499</td>\n",
       "      <td>1986-05-10</td>\n",
       "      <td>male</td>\n",
       "      <td>MAHARASHTRA</td>\n",
       "      <td>400099.0</td>\n",
       "      <td>2016-12-18</td>\n",
       "      <td>2615</td>\n",
       "      <td>BB-AMRITSAR-TRILIUM MALL</td>\n",
       "      <td>14</td>\n",
       "      <td>51080</td>\n",
       "      <td>NONPROMO</td>\n",
       "      <td>NaN</td>\n",
       "      <td>1000443231</td>\n",
       "      <td>PATANJALI TOMATO KETCHUP BT 500g</td>\n",
       "      <td>70.00</td>\n",
       "      <td>Payback</td>\n",
       "    </tr>\n",
       "    <tr>\n",
       "      <th>4</th>\n",
       "      <td>BBID_204110</td>\n",
       "      <td>1988-02-29</td>\n",
       "      <td>male</td>\n",
       "      <td>MADHYA PRADESH</td>\n",
       "      <td>474001.0</td>\n",
       "      <td>2015-12-31</td>\n",
       "      <td>2655</td>\n",
       "      <td>BB-INDORE-MALHAR MEGA MALL</td>\n",
       "      <td>9</td>\n",
       "      <td>21911</td>\n",
       "      <td>0000974126</td>\n",
       "      <td>NMP 5% OFF CONCEPT DISCOUNT 2655</td>\n",
       "      <td>300481741</td>\n",
       "      <td>MAGGI NDL MERI MASALA PP 70g</td>\n",
       "      <td>34.20</td>\n",
       "      <td>Payback</td>\n",
       "    </tr>\n",
       "  </tbody>\n",
       "</table>\n",
       "</div>"
      ],
      "text/plain": [
       "    customerID         DOB  Gender           State   PinCode transactionDate  \\\n",
       "0   BBID_20482  1975-10-20    male  MADHYA PRADESH  453441.0      2016-05-01   \n",
       "1   BBID_20485  1955-07-21  female             NaN  999999.0      2017-03-09   \n",
       "2   BBID_20498  1981-03-19  female     MAHARASHTRA  400064.0      2015-08-12   \n",
       "3   BBID_20499  1986-05-10    male     MAHARASHTRA  400099.0      2016-12-18   \n",
       "4  BBID_204110  1988-02-29    male  MADHYA PRADESH  474001.0      2015-12-31   \n",
       "\n",
       "   store_code           store_description  till_no  \\\n",
       "0        2655  BB-INDORE-MALHAR MEGA MALL        2   \n",
       "1        2655  BB-INDORE-MALHAR MEGA MALL        8   \n",
       "2        2655  BB-INDORE-MALHAR MEGA MALL       13   \n",
       "3        2615    BB-AMRITSAR-TRILIUM MALL       14   \n",
       "4        2655  BB-INDORE-MALHAR MEGA MALL        9   \n",
       "\n",
       "   transaction_number_by_till  promo_code  \\\n",
       "0                       85246    NONPROMO   \n",
       "1                       78829    NONPROMO   \n",
       "2                        1064  0000971754   \n",
       "3                       51080    NONPROMO   \n",
       "4                       21911  0000974126   \n",
       "\n",
       "                   promotion_description   product_code  \\\n",
       "0                                    NaN     1000446431   \n",
       "1                                    NaN     1000010431   \n",
       "2  AD 399 FLAT LADIES JEANS  FASHION EXC  1000077851005   \n",
       "3                                    NaN     1000443231   \n",
       "4       NMP 5% OFF CONCEPT DISCOUNT 2655      300481741   \n",
       "\n",
       "                product_description  sale_price_after_promo discountUsed  \n",
       "0             PATANJALI CHOCOS 125g                   55.00      Payback  \n",
       "1        SOO FRESH ROLLS HOT DOG 4P                   30.00      Payback  \n",
       "2   DLJ-0010-BSF-2-CJ-FL, 34, BLACK                  418.95      Payback  \n",
       "3  PATANJALI TOMATO KETCHUP BT 500g                   70.00      Payback  \n",
       "4      MAGGI NDL MERI MASALA PP 70g                   34.20      Payback  "
      ]
     },
     "execution_count": 45,
     "metadata": {},
     "output_type": "execute_result"
    }
   ],
   "source": [
    "df_products.head()"
   ]
  },
  {
   "cell_type": "code",
   "execution_count": 46,
   "metadata": {},
   "outputs": [
    {
     "data": {
      "text/plain": [
       "customerID                       0\n",
       "DOB                            319\n",
       "Gender                        1028\n",
       "State                         1583\n",
       "PinCode                        817\n",
       "transactionDate                  0\n",
       "store_code                       0\n",
       "store_description                0\n",
       "till_no                          0\n",
       "transaction_number_by_till       0\n",
       "promo_code                       0\n",
       "promotion_description         8510\n",
       "product_code                     0\n",
       "product_description              0\n",
       "sale_price_after_promo           0\n",
       "discountUsed                     0\n",
       "dtype: int64"
      ]
     },
     "execution_count": 46,
     "metadata": {},
     "output_type": "execute_result"
    }
   ],
   "source": [
    "df_products.isnull().sum()"
   ]
  },
  {
   "cell_type": "code",
   "execution_count": 47,
   "metadata": {},
   "outputs": [
    {
     "data": {
      "text/plain": [
       "(11972, 16)"
      ]
     },
     "execution_count": 47,
     "metadata": {},
     "output_type": "execute_result"
    }
   ],
   "source": [
    "df_products.shape"
   ]
  },
  {
   "cell_type": "code",
   "execution_count": 48,
   "metadata": {},
   "outputs": [
    {
     "data": {
      "text/plain": [
       "customerID                    10410\n",
       "DOB                            7026\n",
       "Gender                            2\n",
       "State                            37\n",
       "PinCode                        1353\n",
       "transactionDate                 790\n",
       "store_code                        7\n",
       "store_description                 7\n",
       "till_no                          25\n",
       "transaction_number_by_till    11127\n",
       "promo_code                     2214\n",
       "promotion_description          2010\n",
       "product_code                   6000\n",
       "product_description            5997\n",
       "sale_price_after_promo         2945\n",
       "discountUsed                     28\n",
       "dtype: int64"
      ]
     },
     "execution_count": 48,
     "metadata": {},
     "output_type": "execute_result"
    }
   ],
   "source": [
    "df_products.nunique()"
   ]
  },
  {
   "cell_type": "code",
   "execution_count": 49,
   "metadata": {},
   "outputs": [
    {
     "data": {
      "text/plain": [
       "BBID_211419317    7\n",
       "BBID_20439072     6\n",
       "BBID_21144074     6\n",
       "BBID_2041210      6\n",
       "BBID_20470588     6\n",
       "                 ..\n",
       "BBID_20493900     1\n",
       "BBID_20417218     1\n",
       "BBID_211426840    1\n",
       "BBID_20481312     1\n",
       "BBID_2043333      1\n",
       "Name: customerID, Length: 10410, dtype: int64"
      ]
     },
     "execution_count": 49,
     "metadata": {},
     "output_type": "execute_result"
    }
   ],
   "source": [
    "df_products[\"customerID\"].value_counts()  #frequency of orders per customer"
   ]
  },
  {
   "cell_type": "code",
   "execution_count": 50,
   "metadata": {},
   "outputs": [
    {
     "data": {
      "text/html": [
       "<div>\n",
       "<style scoped>\n",
       "    .dataframe tbody tr th:only-of-type {\n",
       "        vertical-align: middle;\n",
       "    }\n",
       "\n",
       "    .dataframe tbody tr th {\n",
       "        vertical-align: top;\n",
       "    }\n",
       "\n",
       "    .dataframe thead th {\n",
       "        text-align: right;\n",
       "    }\n",
       "</style>\n",
       "<table border=\"1\" class=\"dataframe\">\n",
       "  <thead>\n",
       "    <tr style=\"text-align: right;\">\n",
       "      <th></th>\n",
       "      <th>customerID</th>\n",
       "      <th>DOB</th>\n",
       "      <th>Gender</th>\n",
       "      <th>State</th>\n",
       "      <th>PinCode</th>\n",
       "      <th>transactionDate</th>\n",
       "      <th>store_code</th>\n",
       "      <th>store_description</th>\n",
       "      <th>till_no</th>\n",
       "      <th>tender_type</th>\n",
       "      <th>transaction_number_by_till</th>\n",
       "      <th>payment_amount_by_tender</th>\n",
       "      <th>PaymentUsed</th>\n",
       "    </tr>\n",
       "  </thead>\n",
       "  <tbody>\n",
       "    <tr>\n",
       "      <th>0</th>\n",
       "      <td>BBID_2044</td>\n",
       "      <td>1984-04-02</td>\n",
       "      <td>male</td>\n",
       "      <td>NaN</td>\n",
       "      <td>626125.0</td>\n",
       "      <td>2015-09-03</td>\n",
       "      <td>4986</td>\n",
       "      <td>BB-MADURAI-KOCHADAI VILLAGE</td>\n",
       "      <td>22</td>\n",
       "      <td>GVOWN</td>\n",
       "      <td>9208</td>\n",
       "      <td>1000.00</td>\n",
       "      <td>GiftVoucher</td>\n",
       "    </tr>\n",
       "    <tr>\n",
       "      <th>1</th>\n",
       "      <td>BBID_2044</td>\n",
       "      <td>1984-04-02</td>\n",
       "      <td>male</td>\n",
       "      <td>NaN</td>\n",
       "      <td>626125.0</td>\n",
       "      <td>2015-09-03</td>\n",
       "      <td>4986</td>\n",
       "      <td>BB-MADURAI-KOCHADAI VILLAGE</td>\n",
       "      <td>22</td>\n",
       "      <td>CASH</td>\n",
       "      <td>9208</td>\n",
       "      <td>10.46</td>\n",
       "      <td>CASH</td>\n",
       "    </tr>\n",
       "    <tr>\n",
       "      <th>2</th>\n",
       "      <td>BBID_2044</td>\n",
       "      <td>1984-04-02</td>\n",
       "      <td>male</td>\n",
       "      <td>NaN</td>\n",
       "      <td>626125.0</td>\n",
       "      <td>2016-04-17</td>\n",
       "      <td>4986</td>\n",
       "      <td>BB-MADURAI-KOCHADAI VILLAGE</td>\n",
       "      <td>19</td>\n",
       "      <td>EDCAXIS</td>\n",
       "      <td>90269</td>\n",
       "      <td>677.28</td>\n",
       "      <td>AXIS</td>\n",
       "    </tr>\n",
       "    <tr>\n",
       "      <th>3</th>\n",
       "      <td>BBID_2044</td>\n",
       "      <td>1984-04-02</td>\n",
       "      <td>male</td>\n",
       "      <td>NaN</td>\n",
       "      <td>626125.0</td>\n",
       "      <td>2016-04-17</td>\n",
       "      <td>4986</td>\n",
       "      <td>BB-MADURAI-KOCHADAI VILLAGE</td>\n",
       "      <td>19</td>\n",
       "      <td>MOBI</td>\n",
       "      <td>90268</td>\n",
       "      <td>1042.00</td>\n",
       "      <td>One MobiKwik Systems</td>\n",
       "    </tr>\n",
       "    <tr>\n",
       "      <th>4</th>\n",
       "      <td>BBID_2044</td>\n",
       "      <td>1984-04-02</td>\n",
       "      <td>male</td>\n",
       "      <td>NaN</td>\n",
       "      <td>626125.0</td>\n",
       "      <td>2016-04-17</td>\n",
       "      <td>4986</td>\n",
       "      <td>BB-MADURAI-KOCHADAI VILLAGE</td>\n",
       "      <td>19</td>\n",
       "      <td>MOBI</td>\n",
       "      <td>90269</td>\n",
       "      <td>1000.00</td>\n",
       "      <td>One MobiKwik Systems</td>\n",
       "    </tr>\n",
       "  </tbody>\n",
       "</table>\n",
       "</div>"
      ],
      "text/plain": [
       "  customerID         DOB Gender State   PinCode transactionDate  store_code  \\\n",
       "0  BBID_2044  1984-04-02   male   NaN  626125.0      2015-09-03        4986   \n",
       "1  BBID_2044  1984-04-02   male   NaN  626125.0      2015-09-03        4986   \n",
       "2  BBID_2044  1984-04-02   male   NaN  626125.0      2016-04-17        4986   \n",
       "3  BBID_2044  1984-04-02   male   NaN  626125.0      2016-04-17        4986   \n",
       "4  BBID_2044  1984-04-02   male   NaN  626125.0      2016-04-17        4986   \n",
       "\n",
       "             store_description  till_no tender_type  \\\n",
       "0  BB-MADURAI-KOCHADAI VILLAGE       22       GVOWN   \n",
       "1  BB-MADURAI-KOCHADAI VILLAGE       22        CASH   \n",
       "2  BB-MADURAI-KOCHADAI VILLAGE       19     EDCAXIS   \n",
       "3  BB-MADURAI-KOCHADAI VILLAGE       19        MOBI   \n",
       "4  BB-MADURAI-KOCHADAI VILLAGE       19        MOBI   \n",
       "\n",
       "   transaction_number_by_till  payment_amount_by_tender           PaymentUsed  \n",
       "0                        9208                   1000.00           GiftVoucher  \n",
       "1                        9208                     10.46                  CASH  \n",
       "2                       90269                    677.28                  AXIS  \n",
       "3                       90268                   1042.00  One MobiKwik Systems  \n",
       "4                       90269                   1000.00  One MobiKwik Systems  "
      ]
     },
     "execution_count": 50,
     "metadata": {},
     "output_type": "execute_result"
    }
   ],
   "source": [
    "df_tender.head()"
   ]
  },
  {
   "cell_type": "code",
   "execution_count": 51,
   "metadata": {},
   "outputs": [
    {
     "data": {
      "text/plain": [
       "(149752, 13)"
      ]
     },
     "execution_count": 51,
     "metadata": {},
     "output_type": "execute_result"
    }
   ],
   "source": [
    "df_tender.shape"
   ]
  },
  {
   "cell_type": "code",
   "execution_count": 52,
   "metadata": {},
   "outputs": [
    {
     "data": {
      "text/plain": [
       "customerID                        0\n",
       "DOB                            4596\n",
       "Gender                         6663\n",
       "State                         11650\n",
       "PinCode                        5564\n",
       "transactionDate                   0\n",
       "store_code                        0\n",
       "store_description                 0\n",
       "till_no                           0\n",
       "tender_type                       0\n",
       "transaction_number_by_till        0\n",
       "payment_amount_by_tender          0\n",
       "PaymentUsed                    1223\n",
       "dtype: int64"
      ]
     },
     "execution_count": 52,
     "metadata": {},
     "output_type": "execute_result"
    }
   ],
   "source": [
    "df_tender.isnull().sum()"
   ]
  },
  {
   "cell_type": "code",
   "execution_count": 53,
   "metadata": {},
   "outputs": [
    {
     "data": {
      "text/plain": [
       "customerID                     9380\n",
       "DOB                            6561\n",
       "Gender                            2\n",
       "State                            37\n",
       "PinCode                        1219\n",
       "transactionDate                 792\n",
       "store_code                        7\n",
       "store_description                 7\n",
       "till_no                          25\n",
       "tender_type                      45\n",
       "transaction_number_by_till    69460\n",
       "payment_amount_by_tender      74237\n",
       "PaymentUsed                      33\n",
       "dtype: int64"
      ]
     },
     "execution_count": 53,
     "metadata": {},
     "output_type": "execute_result"
    }
   ],
   "source": [
    "df_tender.nunique()"
   ]
  },
  {
   "cell_type": "code",
   "execution_count": 54,
   "metadata": {},
   "outputs": [
    {
     "data": {
      "text/plain": [
       "BBID_20453330     699\n",
       "BBID_211419317    355\n",
       "BBID_20444232     335\n",
       "BBID_211414981    321\n",
       "BBID_2043082      300\n",
       "                 ... \n",
       "BBID_20460812       1\n",
       "BBID_20480132       1\n",
       "BBID_211435524      1\n",
       "BBID_21147573       1\n",
       "BBID_21146934       1\n",
       "Name: customerID, Length: 9380, dtype: int64"
      ]
     },
     "execution_count": 54,
     "metadata": {},
     "output_type": "execute_result"
    }
   ],
   "source": [
    "df_tender['customerID'].value_counts()"
   ]
  },
  {
   "cell_type": "code",
   "execution_count": 55,
   "metadata": {},
   "outputs": [],
   "source": [
    "newdf = pd.merge(df_products,df_tender,how=\"inner\")"
   ]
  },
  {
   "cell_type": "code",
   "execution_count": 56,
   "metadata": {},
   "outputs": [
    {
     "data": {
      "text/plain": [
       "(14466, 19)"
      ]
     },
     "execution_count": 56,
     "metadata": {},
     "output_type": "execute_result"
    }
   ],
   "source": [
    "newdf.shape"
   ]
  },
  {
   "cell_type": "code",
   "execution_count": 57,
   "metadata": {},
   "outputs": [
    {
     "data": {
      "text/html": [
       "<div>\n",
       "<style scoped>\n",
       "    .dataframe tbody tr th:only-of-type {\n",
       "        vertical-align: middle;\n",
       "    }\n",
       "\n",
       "    .dataframe tbody tr th {\n",
       "        vertical-align: top;\n",
       "    }\n",
       "\n",
       "    .dataframe thead th {\n",
       "        text-align: right;\n",
       "    }\n",
       "</style>\n",
       "<table border=\"1\" class=\"dataframe\">\n",
       "  <thead>\n",
       "    <tr style=\"text-align: right;\">\n",
       "      <th></th>\n",
       "      <th>customerID</th>\n",
       "      <th>DOB</th>\n",
       "      <th>Gender</th>\n",
       "      <th>State</th>\n",
       "      <th>PinCode</th>\n",
       "      <th>transactionDate</th>\n",
       "      <th>store_code</th>\n",
       "      <th>store_description</th>\n",
       "      <th>till_no</th>\n",
       "      <th>transaction_number_by_till</th>\n",
       "      <th>promo_code</th>\n",
       "      <th>promotion_description</th>\n",
       "      <th>product_code</th>\n",
       "      <th>product_description</th>\n",
       "      <th>sale_price_after_promo</th>\n",
       "      <th>discountUsed</th>\n",
       "      <th>tender_type</th>\n",
       "      <th>payment_amount_by_tender</th>\n",
       "      <th>PaymentUsed</th>\n",
       "    </tr>\n",
       "  </thead>\n",
       "  <tbody>\n",
       "    <tr>\n",
       "      <th>0</th>\n",
       "      <td>BBID_20482</td>\n",
       "      <td>1975-10-20</td>\n",
       "      <td>male</td>\n",
       "      <td>MADHYA PRADESH</td>\n",
       "      <td>453441.0</td>\n",
       "      <td>2016-05-01</td>\n",
       "      <td>2655</td>\n",
       "      <td>BB-INDORE-MALHAR MEGA MALL</td>\n",
       "      <td>2</td>\n",
       "      <td>85246</td>\n",
       "      <td>NONPROMO</td>\n",
       "      <td>NaN</td>\n",
       "      <td>1000446431</td>\n",
       "      <td>PATANJALI CHOCOS 125g</td>\n",
       "      <td>55.00</td>\n",
       "      <td>Payback</td>\n",
       "      <td>EDCUBI</td>\n",
       "      <td>65.00</td>\n",
       "      <td>UBI CREDIT CARD</td>\n",
       "    </tr>\n",
       "    <tr>\n",
       "      <th>1</th>\n",
       "      <td>BBID_20498</td>\n",
       "      <td>1981-03-19</td>\n",
       "      <td>female</td>\n",
       "      <td>MAHARASHTRA</td>\n",
       "      <td>400064.0</td>\n",
       "      <td>2015-08-12</td>\n",
       "      <td>2655</td>\n",
       "      <td>BB-INDORE-MALHAR MEGA MALL</td>\n",
       "      <td>13</td>\n",
       "      <td>1064</td>\n",
       "      <td>0000971754</td>\n",
       "      <td>AD 399 FLAT LADIES JEANS  FASHION EXC</td>\n",
       "      <td>1000077851005</td>\n",
       "      <td>DLJ-0010-BSF-2-CJ-FL, 34, BLACK</td>\n",
       "      <td>418.95</td>\n",
       "      <td>Payback</td>\n",
       "      <td>CASH</td>\n",
       "      <td>768.45</td>\n",
       "      <td>CASH</td>\n",
       "    </tr>\n",
       "    <tr>\n",
       "      <th>2</th>\n",
       "      <td>BBID_20499</td>\n",
       "      <td>1986-05-10</td>\n",
       "      <td>male</td>\n",
       "      <td>MAHARASHTRA</td>\n",
       "      <td>400099.0</td>\n",
       "      <td>2016-12-18</td>\n",
       "      <td>2615</td>\n",
       "      <td>BB-AMRITSAR-TRILIUM MALL</td>\n",
       "      <td>14</td>\n",
       "      <td>51080</td>\n",
       "      <td>NONPROMO</td>\n",
       "      <td>NaN</td>\n",
       "      <td>1000443231</td>\n",
       "      <td>PATANJALI TOMATO KETCHUP BT 500g</td>\n",
       "      <td>70.00</td>\n",
       "      <td>Payback</td>\n",
       "      <td>MOBI</td>\n",
       "      <td>1701.24</td>\n",
       "      <td>One MobiKwik Systems</td>\n",
       "    </tr>\n",
       "    <tr>\n",
       "      <th>3</th>\n",
       "      <td>BBID_204110</td>\n",
       "      <td>1988-02-29</td>\n",
       "      <td>male</td>\n",
       "      <td>MADHYA PRADESH</td>\n",
       "      <td>474001.0</td>\n",
       "      <td>2015-12-31</td>\n",
       "      <td>2655</td>\n",
       "      <td>BB-INDORE-MALHAR MEGA MALL</td>\n",
       "      <td>9</td>\n",
       "      <td>21911</td>\n",
       "      <td>0000974126</td>\n",
       "      <td>NMP 5% OFF CONCEPT DISCOUNT 2655</td>\n",
       "      <td>300481741</td>\n",
       "      <td>MAGGI NDL MERI MASALA PP 70g</td>\n",
       "      <td>34.20</td>\n",
       "      <td>Payback</td>\n",
       "      <td>CASH</td>\n",
       "      <td>224.89</td>\n",
       "      <td>CASH</td>\n",
       "    </tr>\n",
       "    <tr>\n",
       "      <th>4</th>\n",
       "      <td>BBID_204149</td>\n",
       "      <td>1977-04-11</td>\n",
       "      <td>male</td>\n",
       "      <td>MAHARASHTRA</td>\n",
       "      <td>401105.0</td>\n",
       "      <td>2016-11-08</td>\n",
       "      <td>2906</td>\n",
       "      <td>BB-INDORE-TREASURE ISLAND</td>\n",
       "      <td>11</td>\n",
       "      <td>33822</td>\n",
       "      <td>0001203034</td>\n",
       "      <td>AZ 1@349,2@599 FLAT REG TERRY BATH TOWEL</td>\n",
       "      <td>1000479429005</td>\n",
       "      <td>SS16 GREEKY Bath Tow, 70CM X 1.4 M, TEAL</td>\n",
       "      <td>1503.75</td>\n",
       "      <td>Payback</td>\n",
       "      <td>EDCSBI</td>\n",
       "      <td>21813.00</td>\n",
       "      <td>SBI CREDIT CARD</td>\n",
       "    </tr>\n",
       "  </tbody>\n",
       "</table>\n",
       "</div>"
      ],
      "text/plain": [
       "    customerID         DOB  Gender           State   PinCode transactionDate  \\\n",
       "0   BBID_20482  1975-10-20    male  MADHYA PRADESH  453441.0      2016-05-01   \n",
       "1   BBID_20498  1981-03-19  female     MAHARASHTRA  400064.0      2015-08-12   \n",
       "2   BBID_20499  1986-05-10    male     MAHARASHTRA  400099.0      2016-12-18   \n",
       "3  BBID_204110  1988-02-29    male  MADHYA PRADESH  474001.0      2015-12-31   \n",
       "4  BBID_204149  1977-04-11    male     MAHARASHTRA  401105.0      2016-11-08   \n",
       "\n",
       "   store_code           store_description  till_no  \\\n",
       "0        2655  BB-INDORE-MALHAR MEGA MALL        2   \n",
       "1        2655  BB-INDORE-MALHAR MEGA MALL       13   \n",
       "2        2615    BB-AMRITSAR-TRILIUM MALL       14   \n",
       "3        2655  BB-INDORE-MALHAR MEGA MALL        9   \n",
       "4        2906   BB-INDORE-TREASURE ISLAND       11   \n",
       "\n",
       "   transaction_number_by_till  promo_code  \\\n",
       "0                       85246    NONPROMO   \n",
       "1                        1064  0000971754   \n",
       "2                       51080    NONPROMO   \n",
       "3                       21911  0000974126   \n",
       "4                       33822  0001203034   \n",
       "\n",
       "                      promotion_description   product_code  \\\n",
       "0                                       NaN     1000446431   \n",
       "1     AD 399 FLAT LADIES JEANS  FASHION EXC  1000077851005   \n",
       "2                                       NaN     1000443231   \n",
       "3          NMP 5% OFF CONCEPT DISCOUNT 2655      300481741   \n",
       "4  AZ 1@349,2@599 FLAT REG TERRY BATH TOWEL  1000479429005   \n",
       "\n",
       "                        product_description  sale_price_after_promo  \\\n",
       "0                     PATANJALI CHOCOS 125g                   55.00   \n",
       "1           DLJ-0010-BSF-2-CJ-FL, 34, BLACK                  418.95   \n",
       "2          PATANJALI TOMATO KETCHUP BT 500g                   70.00   \n",
       "3              MAGGI NDL MERI MASALA PP 70g                   34.20   \n",
       "4  SS16 GREEKY Bath Tow, 70CM X 1.4 M, TEAL                 1503.75   \n",
       "\n",
       "  discountUsed tender_type  payment_amount_by_tender           PaymentUsed  \n",
       "0      Payback      EDCUBI                     65.00       UBI CREDIT CARD  \n",
       "1      Payback        CASH                    768.45                  CASH  \n",
       "2      Payback        MOBI                   1701.24  One MobiKwik Systems  \n",
       "3      Payback        CASH                    224.89                  CASH  \n",
       "4      Payback      EDCSBI                  21813.00       SBI CREDIT CARD  "
      ]
     },
     "execution_count": 57,
     "metadata": {},
     "output_type": "execute_result"
    }
   ],
   "source": [
    "newdf.head()"
   ]
  },
  {
   "cell_type": "code",
   "execution_count": 58,
   "metadata": {},
   "outputs": [
    {
     "data": {
      "text/html": [
       "<div>\n",
       "<style scoped>\n",
       "    .dataframe tbody tr th:only-of-type {\n",
       "        vertical-align: middle;\n",
       "    }\n",
       "\n",
       "    .dataframe tbody tr th {\n",
       "        vertical-align: top;\n",
       "    }\n",
       "\n",
       "    .dataframe thead th {\n",
       "        text-align: right;\n",
       "    }\n",
       "</style>\n",
       "<table border=\"1\" class=\"dataframe\">\n",
       "  <thead>\n",
       "    <tr style=\"text-align: right;\">\n",
       "      <th></th>\n",
       "      <th>customerID</th>\n",
       "      <th>DOB</th>\n",
       "      <th>Gender</th>\n",
       "      <th>State</th>\n",
       "      <th>PinCode</th>\n",
       "      <th>transactionDate</th>\n",
       "      <th>store_code</th>\n",
       "      <th>store_description</th>\n",
       "      <th>till_no</th>\n",
       "      <th>transaction_number_by_till</th>\n",
       "      <th>promo_code</th>\n",
       "      <th>promotion_description</th>\n",
       "      <th>product_code</th>\n",
       "      <th>product_description</th>\n",
       "      <th>sale_price_after_promo</th>\n",
       "      <th>discountUsed</th>\n",
       "      <th>tender_type</th>\n",
       "      <th>payment_amount_by_tender</th>\n",
       "      <th>PaymentUsed</th>\n",
       "    </tr>\n",
       "  </thead>\n",
       "  <tbody>\n",
       "  </tbody>\n",
       "</table>\n",
       "</div>"
      ],
      "text/plain": [
       "Empty DataFrame\n",
       "Columns: [customerID, DOB, Gender, State, PinCode, transactionDate, store_code, store_description, till_no, transaction_number_by_till, promo_code, promotion_description, product_code, product_description, sale_price_after_promo, discountUsed, tender_type, payment_amount_by_tender, PaymentUsed]\n",
       "Index: []"
      ]
     },
     "execution_count": 58,
     "metadata": {},
     "output_type": "execute_result"
    }
   ],
   "source": [
    "duplicate = newdf[newdf.duplicated()]\n",
    "duplicate   # no duplicate rows"
   ]
  },
  {
   "cell_type": "code",
   "execution_count": 59,
   "metadata": {},
   "outputs": [
    {
     "name": "stdout",
     "output_type": "stream",
     "text": [
      "<class 'pandas.core.frame.DataFrame'>\n",
      "Int64Index: 14466 entries, 0 to 14465\n",
      "Data columns (total 19 columns):\n",
      " #   Column                      Non-Null Count  Dtype  \n",
      "---  ------                      --------------  -----  \n",
      " 0   customerID                  14466 non-null  object \n",
      " 1   DOB                         13857 non-null  object \n",
      " 2   Gender                      13646 non-null  object \n",
      " 3   State                       13533 non-null  object \n",
      " 4   PinCode                     13742 non-null  float64\n",
      " 5   transactionDate             14466 non-null  object \n",
      " 6   store_code                  14466 non-null  int64  \n",
      " 7   store_description           14466 non-null  object \n",
      " 8   till_no                     14466 non-null  int64  \n",
      " 9   transaction_number_by_till  14466 non-null  int64  \n",
      " 10  promo_code                  14466 non-null  object \n",
      " 11  promotion_description       4211 non-null   object \n",
      " 12  product_code                14466 non-null  int64  \n",
      " 13  product_description         14466 non-null  object \n",
      " 14  sale_price_after_promo      14466 non-null  float64\n",
      " 15  discountUsed                14466 non-null  object \n",
      " 16  tender_type                 14466 non-null  object \n",
      " 17  payment_amount_by_tender    14466 non-null  float64\n",
      " 18  PaymentUsed                 14334 non-null  object \n",
      "dtypes: float64(3), int64(4), object(12)\n",
      "memory usage: 2.2+ MB\n"
     ]
    }
   ],
   "source": [
    "newdf.info()"
   ]
  },
  {
   "cell_type": "code",
   "execution_count": 60,
   "metadata": {},
   "outputs": [
    {
     "data": {
      "text/plain": [
       "customerID                     0.000000\n",
       "DOB                            4.209871\n",
       "Gender                         5.668464\n",
       "State                          6.449606\n",
       "PinCode                        5.004839\n",
       "transactionDate                0.000000\n",
       "store_code                     0.000000\n",
       "store_description              0.000000\n",
       "till_no                        0.000000\n",
       "transaction_number_by_till     0.000000\n",
       "promo_code                     0.000000\n",
       "promotion_description         70.890364\n",
       "product_code                   0.000000\n",
       "product_description            0.000000\n",
       "sale_price_after_promo         0.000000\n",
       "discountUsed                   0.000000\n",
       "tender_type                    0.000000\n",
       "payment_amount_by_tender       0.000000\n",
       "PaymentUsed                    0.912484\n",
       "dtype: float64"
      ]
     },
     "execution_count": 60,
     "metadata": {},
     "output_type": "execute_result"
    }
   ],
   "source": [
    "newdf.isnull().sum()/newdf.shape[0] * 100"
   ]
  },
  {
   "cell_type": "markdown",
   "metadata": {},
   "source": [
    "### We can remove some columns which are not useful for us."
   ]
  },
  {
   "cell_type": "markdown",
   "metadata": {},
   "source": [
    "Pincode, Promotion_description, Product_code, Product_description, Sale_price_after_promo, store_description"
   ]
  },
  {
   "cell_type": "code",
   "execution_count": 61,
   "metadata": {},
   "outputs": [],
   "source": [
    "newdf.drop(newdf.columns[[4,7,11,12,13,14]], axis = 1, inplace = True)"
   ]
  },
  {
   "cell_type": "code",
   "execution_count": 62,
   "metadata": {},
   "outputs": [
    {
     "data": {
      "text/html": [
       "<div>\n",
       "<style scoped>\n",
       "    .dataframe tbody tr th:only-of-type {\n",
       "        vertical-align: middle;\n",
       "    }\n",
       "\n",
       "    .dataframe tbody tr th {\n",
       "        vertical-align: top;\n",
       "    }\n",
       "\n",
       "    .dataframe thead th {\n",
       "        text-align: right;\n",
       "    }\n",
       "</style>\n",
       "<table border=\"1\" class=\"dataframe\">\n",
       "  <thead>\n",
       "    <tr style=\"text-align: right;\">\n",
       "      <th></th>\n",
       "      <th>customerID</th>\n",
       "      <th>DOB</th>\n",
       "      <th>Gender</th>\n",
       "      <th>State</th>\n",
       "      <th>transactionDate</th>\n",
       "      <th>store_code</th>\n",
       "      <th>till_no</th>\n",
       "      <th>transaction_number_by_till</th>\n",
       "      <th>promo_code</th>\n",
       "      <th>discountUsed</th>\n",
       "      <th>tender_type</th>\n",
       "      <th>payment_amount_by_tender</th>\n",
       "      <th>PaymentUsed</th>\n",
       "    </tr>\n",
       "  </thead>\n",
       "  <tbody>\n",
       "    <tr>\n",
       "      <th>0</th>\n",
       "      <td>BBID_20482</td>\n",
       "      <td>1975-10-20</td>\n",
       "      <td>male</td>\n",
       "      <td>MADHYA PRADESH</td>\n",
       "      <td>2016-05-01</td>\n",
       "      <td>2655</td>\n",
       "      <td>2</td>\n",
       "      <td>85246</td>\n",
       "      <td>NONPROMO</td>\n",
       "      <td>Payback</td>\n",
       "      <td>EDCUBI</td>\n",
       "      <td>65.00</td>\n",
       "      <td>UBI CREDIT CARD</td>\n",
       "    </tr>\n",
       "    <tr>\n",
       "      <th>1</th>\n",
       "      <td>BBID_20498</td>\n",
       "      <td>1981-03-19</td>\n",
       "      <td>female</td>\n",
       "      <td>MAHARASHTRA</td>\n",
       "      <td>2015-08-12</td>\n",
       "      <td>2655</td>\n",
       "      <td>13</td>\n",
       "      <td>1064</td>\n",
       "      <td>0000971754</td>\n",
       "      <td>Payback</td>\n",
       "      <td>CASH</td>\n",
       "      <td>768.45</td>\n",
       "      <td>CASH</td>\n",
       "    </tr>\n",
       "    <tr>\n",
       "      <th>2</th>\n",
       "      <td>BBID_20499</td>\n",
       "      <td>1986-05-10</td>\n",
       "      <td>male</td>\n",
       "      <td>MAHARASHTRA</td>\n",
       "      <td>2016-12-18</td>\n",
       "      <td>2615</td>\n",
       "      <td>14</td>\n",
       "      <td>51080</td>\n",
       "      <td>NONPROMO</td>\n",
       "      <td>Payback</td>\n",
       "      <td>MOBI</td>\n",
       "      <td>1701.24</td>\n",
       "      <td>One MobiKwik Systems</td>\n",
       "    </tr>\n",
       "    <tr>\n",
       "      <th>3</th>\n",
       "      <td>BBID_204110</td>\n",
       "      <td>1988-02-29</td>\n",
       "      <td>male</td>\n",
       "      <td>MADHYA PRADESH</td>\n",
       "      <td>2015-12-31</td>\n",
       "      <td>2655</td>\n",
       "      <td>9</td>\n",
       "      <td>21911</td>\n",
       "      <td>0000974126</td>\n",
       "      <td>Payback</td>\n",
       "      <td>CASH</td>\n",
       "      <td>224.89</td>\n",
       "      <td>CASH</td>\n",
       "    </tr>\n",
       "    <tr>\n",
       "      <th>4</th>\n",
       "      <td>BBID_204149</td>\n",
       "      <td>1977-04-11</td>\n",
       "      <td>male</td>\n",
       "      <td>MAHARASHTRA</td>\n",
       "      <td>2016-11-08</td>\n",
       "      <td>2906</td>\n",
       "      <td>11</td>\n",
       "      <td>33822</td>\n",
       "      <td>0001203034</td>\n",
       "      <td>Payback</td>\n",
       "      <td>EDCSBI</td>\n",
       "      <td>21813.00</td>\n",
       "      <td>SBI CREDIT CARD</td>\n",
       "    </tr>\n",
       "  </tbody>\n",
       "</table>\n",
       "</div>"
      ],
      "text/plain": [
       "    customerID         DOB  Gender           State transactionDate  \\\n",
       "0   BBID_20482  1975-10-20    male  MADHYA PRADESH      2016-05-01   \n",
       "1   BBID_20498  1981-03-19  female     MAHARASHTRA      2015-08-12   \n",
       "2   BBID_20499  1986-05-10    male     MAHARASHTRA      2016-12-18   \n",
       "3  BBID_204110  1988-02-29    male  MADHYA PRADESH      2015-12-31   \n",
       "4  BBID_204149  1977-04-11    male     MAHARASHTRA      2016-11-08   \n",
       "\n",
       "   store_code  till_no  transaction_number_by_till  promo_code discountUsed  \\\n",
       "0        2655        2                       85246    NONPROMO      Payback   \n",
       "1        2655       13                        1064  0000971754      Payback   \n",
       "2        2615       14                       51080    NONPROMO      Payback   \n",
       "3        2655        9                       21911  0000974126      Payback   \n",
       "4        2906       11                       33822  0001203034      Payback   \n",
       "\n",
       "  tender_type  payment_amount_by_tender           PaymentUsed  \n",
       "0      EDCUBI                     65.00       UBI CREDIT CARD  \n",
       "1        CASH                    768.45                  CASH  \n",
       "2        MOBI                   1701.24  One MobiKwik Systems  \n",
       "3        CASH                    224.89                  CASH  \n",
       "4      EDCSBI                  21813.00       SBI CREDIT CARD  "
      ]
     },
     "execution_count": 62,
     "metadata": {},
     "output_type": "execute_result"
    }
   ],
   "source": [
    "newdf.head()"
   ]
  },
  {
   "cell_type": "code",
   "execution_count": 63,
   "metadata": {},
   "outputs": [],
   "source": [
    "newdf.dropna(inplace=True)"
   ]
  },
  {
   "cell_type": "code",
   "execution_count": 64,
   "metadata": {},
   "outputs": [
    {
     "name": "stdout",
     "output_type": "stream",
     "text": [
      "<class 'pandas.core.frame.DataFrame'>\n",
      "Int64Index: 12687 entries, 0 to 14465\n",
      "Data columns (total 13 columns):\n",
      " #   Column                      Non-Null Count  Dtype         \n",
      "---  ------                      --------------  -----         \n",
      " 0   customerID                  12687 non-null  object        \n",
      " 1   DOB                         12681 non-null  datetime64[ns]\n",
      " 2   Gender                      12687 non-null  object        \n",
      " 3   State                       12687 non-null  object        \n",
      " 4   transactionDate             12687 non-null  datetime64[ns]\n",
      " 5   store_code                  12687 non-null  int64         \n",
      " 6   till_no                     12687 non-null  int64         \n",
      " 7   transaction_number_by_till  12687 non-null  int64         \n",
      " 8   promo_code                  12687 non-null  object        \n",
      " 9   discountUsed                12687 non-null  object        \n",
      " 10  tender_type                 12687 non-null  object        \n",
      " 11  payment_amount_by_tender    12687 non-null  float64       \n",
      " 12  PaymentUsed                 12687 non-null  object        \n",
      "dtypes: datetime64[ns](2), float64(1), int64(3), object(7)\n",
      "memory usage: 1.4+ MB\n"
     ]
    }
   ],
   "source": [
    "newdf['DOB'] = pd.to_datetime(newdf['DOB'],format='%Y-%m-%d',errors='coerce')\n",
    "newdf['transactionDate'] = pd.to_datetime(newdf['transactionDate'],format='%Y-%m-%d',errors='coerce')\n",
    "newdf.info()"
   ]
  },
  {
   "cell_type": "code",
   "execution_count": 65,
   "metadata": {},
   "outputs": [
    {
     "data": {
      "text/plain": [
       "<matplotlib.axes._subplots.AxesSubplot at 0x7fb901935a90>"
      ]
     },
     "execution_count": 65,
     "metadata": {},
     "output_type": "execute_result"
    },
    {
     "data": {
      "image/png": "[encoded data removed]",
      "text/plain": [
       "<Figure size 432x288 with 1 Axes>"
      ]
     },
     "metadata": {
      "needs_background": "light"
     },
     "output_type": "display_data"
    }
   ],
   "source": [
    "sns.countplot(newdf['Gender'])"
   ]
  },
  {
   "cell_type": "markdown",
   "metadata": {},
   "source": [
    "We have a lot of male customers as compared to female."
   ]
  },
  {
   "cell_type": "code",
   "execution_count": 66,
   "metadata": {},
   "outputs": [
    {
     "data": {
      "text/plain": [
       "MADHYA PRADESH        4173\n",
       "KARNATAKA             2453\n",
       "JHARKHAND             1779\n",
       "PUNJAB                1660\n",
       "TAMIL NADU            1494\n",
       "TAMILNADU              213\n",
       "MAHARASHTRA            205\n",
       "UTTAR PRADESH          124\n",
       "WEST BENGAL            119\n",
       "DELHI                   68\n",
       "BIHAR                   58\n",
       "ORISSA                  54\n",
       "ANDHRA PRADESH          45\n",
       "GUJARAT                 43\n",
       "RAJASTHAN               38\n",
       "HARYANA                 31\n",
       "CHATTISGARH             29\n",
       "KERALA                  24\n",
       "HARAYANA                18\n",
       "x                       12\n",
       "GOA                      8\n",
       "HIMACHAL PRADESH         6\n",
       "CHANDIGARH               6\n",
       "UTTARANCHAL              5\n",
       "ASSAM                    4\n",
       "JAMMU AND KASHMIR        3\n",
       "CHHATTISGARH             3\n",
       "KARNATAK                 2\n",
       "MADHYA  PRADESH          2\n",
       "MP                       2\n",
       "DUMMY                    1\n",
       "TRIPURA                  1\n",
       "Other                    1\n",
       "Jharkhand                1\n",
       "UTTAR PRADESH EAST       1\n",
       "SIKKIM                   1\n",
       "Name: State, dtype: int64"
      ]
     },
     "execution_count": 66,
     "metadata": {},
     "output_type": "execute_result"
    }
   ],
   "source": [
    "newdf['State'].value_counts()"
   ]
  },
  {
   "cell_type": "markdown",
   "metadata": {},
   "source": [
    "We see many states that have been categorised into differnt states due to a change in spellings. We need to correct this."
   ]
  },
  {
   "cell_type": "code",
   "execution_count": 67,
   "metadata": {},
   "outputs": [
    {
     "name": "stdout",
     "output_type": "stream",
     "text": [
      "['ANDHRA PRADESH' 'ASSAM' 'BIHAR' 'CHANDIGARH' 'CHATTISGARH'\n",
      " 'CHHATTISGARH' 'DELHI' 'DUMMY' 'GOA' 'GUJARAT' 'HARAYANA' 'HARYANA'\n",
      " 'HIMACHAL PRADESH' 'JAMMU AND KASHMIR' 'JHARKHAND' 'Jharkhand' 'KARNATAK'\n",
      " 'KARNATAKA' 'KERALA' 'MADHYA  PRADESH' 'MADHYA PRADESH' 'MAHARASHTRA'\n",
      " 'MP' 'ORISSA' 'Other' 'PUNJAB' 'RAJASTHAN' 'SIKKIM' 'TAMIL NADU'\n",
      " 'TAMILNADU' 'TRIPURA' 'UTTAR PRADESH' 'UTTAR PRADESH EAST' 'UTTARANCHAL'\n",
      " 'WEST BENGAL' 'x']\n"
     ]
    }
   ],
   "source": [
    "state = newdf['State'].unique()\n",
    "state.sort()\n",
    "print(state)"
   ]
  },
  {
   "cell_type": "code",
   "execution_count": 68,
   "metadata": {},
   "outputs": [],
   "source": [
    "newdf['State'] = newdf['State'].str.replace('CHHATTISGARH','CHATTISGARH')\n",
    "newdf['State'] = newdf['State'].str.replace('HARYANA','HARAYANA')\n",
    "newdf['State'] = newdf['State'].str.replace('Jharkhand','JHARKHAND')\n",
    "newdf['State'] = newdf['State'].str.replace('KARNATAK','KARNATAKA')\n",
    "newdf['State'] = newdf['State'].str.replace('MADHYA  PRADESH','MADHYA PRADESH')\n",
    "newdf['State'] = newdf['State'].str.replace('MP','MADHYA PRADESH')\n",
    "newdf['State'] = newdf['State'].str.replace('MADHYA  PRADESH','MADHYA PRADESH')\n",
    "newdf['State'] = newdf['State'].str.replace('TAMILNADU','TAMIL NADU')\n",
    "newdf['State'] = newdf['State'].str.replace('MADHYA  PRADESH','MADHYA PRADESH')\n",
    "newdf['State'] = newdf['State'].str.replace('UTTAR PRADESH EAST','UTTAR PRADESH')\n",
    "newdf['State'] = newdf['State'].str.replace('DUMMY','Other').str.replace('x','Other')"
   ]
  },
  {
   "cell_type": "code",
   "execution_count": 69,
   "metadata": {},
   "outputs": [
    {
     "data": {
      "text/plain": [
       "<matplotlib.axes._subplots.AxesSubplot at 0x7fb90020e9d0>"
      ]
     },
     "execution_count": 69,
     "metadata": {},
     "output_type": "execute_result"
    },
    {
     "data": {
      "image/png": "[encoded data removed]",
      "text/plain": [
       "<Figure size 720x360 with 1 Axes>"
      ]
     },
     "metadata": {
      "needs_background": "light"
     },
     "output_type": "display_data"
    }
   ],
   "source": [
    "plt.figure(figsize=(10,5))\n",
    "newdf['State'].value_counts().sort_values().plot.bar()"
   ]
  },
  {
   "cell_type": "code",
   "execution_count": 70,
   "metadata": {},
   "outputs": [
    {
     "data": {
      "text/html": [
       "<div>\n",
       "<style scoped>\n",
       "    .dataframe tbody tr th:only-of-type {\n",
       "        vertical-align: middle;\n",
       "    }\n",
       "\n",
       "    .dataframe tbody tr th {\n",
       "        vertical-align: top;\n",
       "    }\n",
       "\n",
       "    .dataframe thead th {\n",
       "        text-align: right;\n",
       "    }\n",
       "</style>\n",
       "<table border=\"1\" class=\"dataframe\">\n",
       "  <thead>\n",
       "    <tr style=\"text-align: right;\">\n",
       "      <th></th>\n",
       "      <th>State</th>\n",
       "      <th>store_code</th>\n",
       "    </tr>\n",
       "  </thead>\n",
       "  <tbody>\n",
       "    <tr>\n",
       "      <th>10</th>\n",
       "      <td>JAMMU AND KASHMIR</td>\n",
       "      <td>1</td>\n",
       "    </tr>\n",
       "    <tr>\n",
       "      <th>23</th>\n",
       "      <td>TRIPURA</td>\n",
       "      <td>1</td>\n",
       "    </tr>\n",
       "    <tr>\n",
       "      <th>12</th>\n",
       "      <td>KARNATAKA</td>\n",
       "      <td>1</td>\n",
       "    </tr>\n",
       "    <tr>\n",
       "      <th>6</th>\n",
       "      <td>GOA</td>\n",
       "      <td>1</td>\n",
       "    </tr>\n",
       "    <tr>\n",
       "      <th>21</th>\n",
       "      <td>SIKKIM</td>\n",
       "      <td>1</td>\n",
       "    </tr>\n",
       "    <tr>\n",
       "      <th>3</th>\n",
       "      <td>CHANDIGARH</td>\n",
       "      <td>2</td>\n",
       "    </tr>\n",
       "    <tr>\n",
       "      <th>9</th>\n",
       "      <td>HIMACHAL PRADESH</td>\n",
       "      <td>3</td>\n",
       "    </tr>\n",
       "    <tr>\n",
       "      <th>1</th>\n",
       "      <td>ASSAM</td>\n",
       "      <td>3</td>\n",
       "    </tr>\n",
       "    <tr>\n",
       "      <th>11</th>\n",
       "      <td>JHARKHAND</td>\n",
       "      <td>4</td>\n",
       "    </tr>\n",
       "    <tr>\n",
       "      <th>25</th>\n",
       "      <td>UTTARANCHAL</td>\n",
       "      <td>4</td>\n",
       "    </tr>\n",
       "    <tr>\n",
       "      <th>14</th>\n",
       "      <td>KERALA</td>\n",
       "      <td>4</td>\n",
       "    </tr>\n",
       "    <tr>\n",
       "      <th>17</th>\n",
       "      <td>ORISSA</td>\n",
       "      <td>4</td>\n",
       "    </tr>\n",
       "    <tr>\n",
       "      <th>4</th>\n",
       "      <td>CHATTISGARH</td>\n",
       "      <td>4</td>\n",
       "    </tr>\n",
       "    <tr>\n",
       "      <th>7</th>\n",
       "      <td>GUJARAT</td>\n",
       "      <td>5</td>\n",
       "    </tr>\n",
       "    <tr>\n",
       "      <th>19</th>\n",
       "      <td>PUNJAB</td>\n",
       "      <td>5</td>\n",
       "    </tr>\n",
       "    <tr>\n",
       "      <th>2</th>\n",
       "      <td>BIHAR</td>\n",
       "      <td>5</td>\n",
       "    </tr>\n",
       "    <tr>\n",
       "      <th>18</th>\n",
       "      <td>Other</td>\n",
       "      <td>5</td>\n",
       "    </tr>\n",
       "    <tr>\n",
       "      <th>8</th>\n",
       "      <td>HARAYANA</td>\n",
       "      <td>6</td>\n",
       "    </tr>\n",
       "    <tr>\n",
       "      <th>22</th>\n",
       "      <td>TAMIL NADU</td>\n",
       "      <td>6</td>\n",
       "    </tr>\n",
       "    <tr>\n",
       "      <th>0</th>\n",
       "      <td>ANDHRA PRADESH</td>\n",
       "      <td>6</td>\n",
       "    </tr>\n",
       "    <tr>\n",
       "      <th>24</th>\n",
       "      <td>UTTAR PRADESH</td>\n",
       "      <td>7</td>\n",
       "    </tr>\n",
       "    <tr>\n",
       "      <th>13</th>\n",
       "      <td>KARNATAKAA</td>\n",
       "      <td>7</td>\n",
       "    </tr>\n",
       "    <tr>\n",
       "      <th>16</th>\n",
       "      <td>MAHARASHTRA</td>\n",
       "      <td>7</td>\n",
       "    </tr>\n",
       "    <tr>\n",
       "      <th>15</th>\n",
       "      <td>MADHYA PRADESH</td>\n",
       "      <td>7</td>\n",
       "    </tr>\n",
       "    <tr>\n",
       "      <th>5</th>\n",
       "      <td>DELHI</td>\n",
       "      <td>7</td>\n",
       "    </tr>\n",
       "    <tr>\n",
       "      <th>20</th>\n",
       "      <td>RAJASTHAN</td>\n",
       "      <td>7</td>\n",
       "    </tr>\n",
       "    <tr>\n",
       "      <th>26</th>\n",
       "      <td>WEST BENGAL</td>\n",
       "      <td>7</td>\n",
       "    </tr>\n",
       "  </tbody>\n",
       "</table>\n",
       "</div>"
      ],
      "text/plain": [
       "                State  store_code\n",
       "10  JAMMU AND KASHMIR           1\n",
       "23            TRIPURA           1\n",
       "12          KARNATAKA           1\n",
       "6                 GOA           1\n",
       "21             SIKKIM           1\n",
       "3          CHANDIGARH           2\n",
       "9    HIMACHAL PRADESH           3\n",
       "1               ASSAM           3\n",
       "11          JHARKHAND           4\n",
       "25        UTTARANCHAL           4\n",
       "14             KERALA           4\n",
       "17             ORISSA           4\n",
       "4         CHATTISGARH           4\n",
       "7             GUJARAT           5\n",
       "19             PUNJAB           5\n",
       "2               BIHAR           5\n",
       "18              Other           5\n",
       "8            HARAYANA           6\n",
       "22         TAMIL NADU           6\n",
       "0      ANDHRA PRADESH           6\n",
       "24      UTTAR PRADESH           7\n",
       "13         KARNATAKAA           7\n",
       "16        MAHARASHTRA           7\n",
       "15     MADHYA PRADESH           7\n",
       "5               DELHI           7\n",
       "20          RAJASTHAN           7\n",
       "26        WEST BENGAL           7"
      ]
     },
     "execution_count": 70,
     "metadata": {},
     "output_type": "execute_result"
    }
   ],
   "source": [
    "newdf.groupby(\"State\")[\"store_code\"].nunique().reset_index().sort_values(by='store_code')"
   ]
  },
  {
   "cell_type": "markdown",
   "metadata": {},
   "source": [
    "Which stores in most successful states are doing most of the transactions? "
   ]
  },
  {
   "cell_type": "code",
   "execution_count": 71,
   "metadata": {},
   "outputs": [
    {
     "data": {
      "text/plain": [
       "NONPROMO      8985\n",
       "0001268186     294\n",
       "0001213777      92\n",
       "0001275747      47\n",
       "0001072310      46\n",
       "              ... \n",
       "4039             1\n",
       "0001294108       1\n",
       "0001057037       1\n",
       "0001206443       1\n",
       "0001281053       1\n",
       "Name: promo_code, Length: 1879, dtype: int64"
      ]
     },
     "execution_count": 71,
     "metadata": {},
     "output_type": "execute_result"
    }
   ],
   "source": [
    "newdf['promo_code'].value_counts()"
   ]
  },
  {
   "cell_type": "code",
   "execution_count": 72,
   "metadata": {},
   "outputs": [
    {
     "data": {
      "text/plain": [
       "1    8985\n",
       "0    3702\n",
       "Name: promo_code, dtype: int64"
      ]
     },
     "execution_count": 72,
     "metadata": {},
     "output_type": "execute_result"
    }
   ],
   "source": [
    "newdf['promo_code'] = newdf['promo_code'].apply(lambda x: '1' if x =='NONPROMO' else 0)\n",
    "newdf['promo_code'].value_counts()\n",
    "# 0 if Promo Code is applied and 1 if no promo code has been applied. "
   ]
  },
  {
   "cell_type": "code",
   "execution_count": 73,
   "metadata": {},
   "outputs": [
    {
     "data": {
      "text/plain": [
       "Payback                                             6471\n",
       "T24Club,Payback                                     2023\n",
       "BBProfitClub                                        1654\n",
       "BBProfitClub,Payback                                 929\n",
       "T24Club,BBProfitClub,Payback                         526\n",
       "BBSavingsClub                                        232\n",
       "T24Club,BBProfitClub                                 212\n",
       "FGShoppingFest,Payback                               164\n",
       "FGShoppingFest,T24Club,Payback                       128\n",
       "BBSavingsClub,Payback                                110\n",
       "FGShoppingFest                                        89\n",
       "FGShoppingFest,BBProfitClub                           31\n",
       "FGShoppingFest,T24Club                                26\n",
       "BBSavingsClub,T24Club,Payback                         18\n",
       "BBSavingsClub,T24Club                                 17\n",
       "BBSavingsClub,BBProfitClub                            16\n",
       "FGShoppingFest,BBProfitClub,Payback                   13\n",
       "BBSavingsClub,BBProfitClub,Payback                     9\n",
       "FGShoppingFest,T24Club,BBProfitClub                    7\n",
       "FuturePrivilegeClub,BBProfitClub                       3\n",
       "FGShoppingFest,T24Club,BBProfitClub,Payback            3\n",
       "FuturePrivilegeClub,FGShoppingFest                     2\n",
       "FuturePrivilegeClub,T24Club,BBProfitClub,Payback       2\n",
       "FuturePrivilegeClub,Payback                            1\n",
       "FuturePrivilegeClub,T24Club,Payback                    1\n",
       "Name: discountUsed, dtype: int64"
      ]
     },
     "execution_count": 73,
     "metadata": {},
     "output_type": "execute_result"
    }
   ],
   "source": [
    "newdf['discountUsed'].value_counts()"
   ]
  },
  {
   "cell_type": "code",
   "execution_count": 74,
   "metadata": {
    "scrolled": true
   },
   "outputs": [
    {
     "data": {
      "text/plain": [
       "CASH                      4284\n",
       "BBProfitClub              1586\n",
       "UBI CREDIT CARD           1413\n",
       "SBI CREDIT CARD           1359\n",
       "HDFC CREDIT CARD           857\n",
       "ICICI CREDIT CARD          820\n",
       "AXIS                       578\n",
       "Cash Back                  371\n",
       "Payback                    328\n",
       "GiftVoucher                239\n",
       "FuturePay                  170\n",
       "FoodCoupon                 131\n",
       "FGShoppingFest             113\n",
       "ParkingCoupon              112\n",
       "CreditNote                  69\n",
       "AMEX CREDIT CARD            36\n",
       "BAJAJ FINSERVE              35\n",
       "One MobiKwik Systems        34\n",
       "PATM-PAYTM WALLET           29\n",
       "UTI                         28\n",
       "Store Privilage Card        24\n",
       "ACCOR MEAL VOUCHER          19\n",
       "SBI Youth Card              17\n",
       "SUPPLIER GV                 13\n",
       "CHEQUE                      11\n",
       "CREDIT NOTE (ISSUES)         8\n",
       "SOMC                         2\n",
       "CREDIT NOTE (RECEIPTS)       1\n",
       "Name: PaymentUsed, dtype: int64"
      ]
     },
     "execution_count": 74,
     "metadata": {},
     "output_type": "execute_result"
    }
   ],
   "source": [
    "newdf['PaymentUsed'].value_counts()"
   ]
  },
  {
   "cell_type": "markdown",
   "metadata": {},
   "source": [
    "We can combine various payment methods used based on different categories. "
   ]
  },
  {
   "cell_type": "code",
   "execution_count": 75,
   "metadata": {},
   "outputs": [
    {
     "data": {
      "text/plain": [
       "CASH          4284\n",
       "PCLB          1586\n",
       "EDCUBI        1413\n",
       "EDCSBI        1359\n",
       "EDCHDFC        857\n",
       "EDCICICI       820\n",
       "EDCAXIS        578\n",
       "CSBK           371\n",
       "PYOC           328\n",
       "GVOWN          239\n",
       "FUTP           170\n",
       "MVSODEXHO      131\n",
       "FGSC           113\n",
       "PARKCOUP       112\n",
       "CR-NOTE(R)      69\n",
       "EDCAMEX         36\n",
       "BFBB            35\n",
       "MOBI            34\n",
       "PATM            29\n",
       "EDCUTI          28\n",
       "SPCD            24\n",
       "MVACCOR         19\n",
       "SFOC            17\n",
       "GVSUPP          13\n",
       "CHEQUE          11\n",
       "CR-NOTE(I)       8\n",
       "SOMC             2\n",
       "CCNREDEEM        1\n",
       "Name: tender_type, dtype: int64"
      ]
     },
     "execution_count": 75,
     "metadata": {},
     "output_type": "execute_result"
    }
   ],
   "source": [
    "newdf['tender_type'].value_counts()  #maximum customers hav done their payment through cash. "
   ]
  },
  {
   "cell_type": "markdown",
   "metadata": {},
   "source": [
    "We can tie up with UBI and SBI Credit Card people, as most of our customers are using their credit cards."
   ]
  },
  {
   "cell_type": "code",
   "execution_count": 77,
   "metadata": {},
   "outputs": [
    {
     "data": {
      "text/plain": [
       "<matplotlib.axes._subplots.AxesSubplot at 0x7fb9004b5f90>"
      ]
     },
     "execution_count": 77,
     "metadata": {},
     "output_type": "execute_result"
    },
    {
     "data": {
      "image/png": "[encoded data removed]",
      "text/plain": [
       "<Figure size 432x288 with 1 Axes>"
      ]
     },
     "metadata": {
      "needs_background": "light"
     },
     "output_type": "display_data"
    }
   ],
   "source": [
    "sns.distplot(newdf['payment_amount_by_tender'])"
   ]
  },
  {
   "cell_type": "markdown",
   "metadata": {},
   "source": [
    "This hows we have some amounts which are in negative too. \n",
    "That might mean that customers have returned some items. \n"
   ]
  },
  {
   "cell_type": "markdown",
   "metadata": {},
   "source": [
    "## Top 5 customer analysis (by highest amount spent)"
   ]
  },
  {
   "cell_type": "code",
   "execution_count": 80,
   "metadata": {},
   "outputs": [
    {
     "data": {
      "text/html": [
       "<div>\n",
       "<style scoped>\n",
       "    .dataframe tbody tr th:only-of-type {\n",
       "        vertical-align: middle;\n",
       "    }\n",
       "\n",
       "    .dataframe tbody tr th {\n",
       "        vertical-align: top;\n",
       "    }\n",
       "\n",
       "    .dataframe thead th {\n",
       "        text-align: right;\n",
       "    }\n",
       "</style>\n",
       "<table border=\"1\" class=\"dataframe\">\n",
       "  <thead>\n",
       "    <tr style=\"text-align: right;\">\n",
       "      <th></th>\n",
       "      <th>customerID</th>\n",
       "      <th>payment_amount_by_tender</th>\n",
       "    </tr>\n",
       "  </thead>\n",
       "  <tbody>\n",
       "    <tr>\n",
       "      <th>5924</th>\n",
       "      <td>BBID_211419317</td>\n",
       "      <td>59572.74</td>\n",
       "    </tr>\n",
       "    <tr>\n",
       "      <th>5336</th>\n",
       "      <td>BBID_211412153</td>\n",
       "      <td>43095.64</td>\n",
       "    </tr>\n",
       "    <tr>\n",
       "      <th>6103</th>\n",
       "      <td>BBID_211421442</td>\n",
       "      <td>40276.66</td>\n",
       "    </tr>\n",
       "    <tr>\n",
       "      <th>6924</th>\n",
       "      <td>BBID_211434738</td>\n",
       "      <td>36447.95</td>\n",
       "    </tr>\n",
       "    <tr>\n",
       "      <th>1584</th>\n",
       "      <td>BBID_2043403</td>\n",
       "      <td>33863.87</td>\n",
       "    </tr>\n",
       "    <tr>\n",
       "      <th>...</th>\n",
       "      <td>...</td>\n",
       "      <td>...</td>\n",
       "    </tr>\n",
       "    <tr>\n",
       "      <th>3651</th>\n",
       "      <td>BBID_2048015</td>\n",
       "      <td>-545.58</td>\n",
       "    </tr>\n",
       "    <tr>\n",
       "      <th>3245</th>\n",
       "      <td>BBID_20466750</td>\n",
       "      <td>-566.37</td>\n",
       "    </tr>\n",
       "    <tr>\n",
       "      <th>2138</th>\n",
       "      <td>BBID_20444017</td>\n",
       "      <td>-599.00</td>\n",
       "    </tr>\n",
       "    <tr>\n",
       "      <th>6714</th>\n",
       "      <td>BBID_211431368</td>\n",
       "      <td>-1064.33</td>\n",
       "    </tr>\n",
       "    <tr>\n",
       "      <th>4013</th>\n",
       "      <td>BBID_20484471</td>\n",
       "      <td>-1420.00</td>\n",
       "    </tr>\n",
       "  </tbody>\n",
       "</table>\n",
       "<p>8379 rows × 2 columns</p>\n",
       "</div>"
      ],
      "text/plain": [
       "          customerID  payment_amount_by_tender\n",
       "5924  BBID_211419317                  59572.74\n",
       "5336  BBID_211412153                  43095.64\n",
       "6103  BBID_211421442                  40276.66\n",
       "6924  BBID_211434738                  36447.95\n",
       "1584    BBID_2043403                  33863.87\n",
       "...              ...                       ...\n",
       "3651    BBID_2048015                   -545.58\n",
       "3245   BBID_20466750                   -566.37\n",
       "2138   BBID_20444017                   -599.00\n",
       "6714  BBID_211431368                  -1064.33\n",
       "4013   BBID_20484471                  -1420.00\n",
       "\n",
       "[8379 rows x 2 columns]"
      ]
     },
     "execution_count": 80,
     "metadata": {},
     "output_type": "execute_result"
    }
   ],
   "source": [
    "newdf.groupby('customerID')['payment_amount_by_tender'].sum().reset_index().sort_values(by='payment_amount_by_tender',ascending=False)"
   ]
  },
  {
   "cell_type": "code",
   "execution_count": null,
   "metadata": {},
   "outputs": [],
   "source": []
  },
  {
   "cell_type": "code",
   "execution_count": 83,
   "metadata": {},
   "outputs": [
    {
     "name": "stdout",
     "output_type": "stream",
     "text": [
      "promo_code     0     1\n",
      "Gender                \n",
      "female       886  2346\n",
      "male        2816  6639\n"
     ]
    }
   ],
   "source": [
    "CrosstabResult=pd.crosstab(index=newdf['Gender'],columns=newdf['promo_code'])\n",
    "print(CrosstabResult)"
   ]
  },
  {
   "cell_type": "code",
   "execution_count": 84,
   "metadata": {},
   "outputs": [
    {
     "name": "stdout",
     "output_type": "stream",
     "text": [
      "The P-Value of the ChiSq Test is: 0.01121019117170556\n"
     ]
    }
   ],
   "source": [
    "#Assumption(H0): The two columns are NOT related to each other\n",
    "from scipy.stats import chi2_contingency\n",
    " \n",
    "ChiSqResult = chi2_contingency(CrosstabResult)\n",
    " \n",
    "# P-Value is the Probability of H0 being True\n",
    "# If P-Value>0.05 then only we Accept the assumption(H0)\n",
    " \n",
    "print('The P-Value of the ChiSq Test is:', ChiSqResult[1])"
   ]
  },
  {
   "cell_type": "markdown",
   "metadata": {},
   "source": [
    "P-value is less than 0.05 we reject H0, hence the two columns are related to each other"
   ]
  },
  {
   "cell_type": "code",
   "execution_count": 85,
   "metadata": {},
   "outputs": [
    {
     "name": "stdout",
     "output_type": "stream",
     "text": [
      "           customerID        DOB  Gender           State transactionDate  \\\n",
      "0          BBID_20482 1975-10-20    male  MADHYA PRADESH      2016-05-01   \n",
      "1          BBID_20498 1981-03-19  female     MAHARASHTRA      2015-08-12   \n",
      "2          BBID_20499 1986-05-10    male     MAHARASHTRA      2016-12-18   \n",
      "3         BBID_204110 1988-02-29    male  MADHYA PRADESH      2015-12-31   \n",
      "4         BBID_204149 1977-04-11    male     MAHARASHTRA      2016-11-08   \n",
      "...               ...        ...     ...             ...             ...   \n",
      "14460  BBID_211461372 1956-04-26    male       JHARKHAND      2017-05-11   \n",
      "14461  BBID_211461387 1973-02-03    male       JHARKHAND      2017-05-17   \n",
      "14462  BBID_211461453 1994-12-10  female       JHARKHAND      2017-04-19   \n",
      "14463  BBID_211461466 1959-08-25  female       JHARKHAND      2017-04-17   \n",
      "14465  BBID_211461472 1985-01-01    male       JHARKHAND      2017-05-22   \n",
      "\n",
      "       store_code  till_no  transaction_number_by_till promo_code  \\\n",
      "0            2655        2                       85246          1   \n",
      "1            2655       13                        1064          0   \n",
      "2            2615       14                       51080          1   \n",
      "3            2655        9                       21911          0   \n",
      "4            2906       11                       33822          0   \n",
      "...           ...      ...                         ...        ...   \n",
      "14460        4843        9                       66638          0   \n",
      "14461        4843       23                       89115          0   \n",
      "14462        4843        3                       90594          0   \n",
      "14463        4843        5                        6628          0   \n",
      "14465        4843        9                       68822          0   \n",
      "\n",
      "                discountUsed tender_type  payment_amount_by_tender  \\\n",
      "0                    Payback      EDCUBI                     65.00   \n",
      "1                    Payback        CASH                    768.45   \n",
      "2                    Payback        MOBI                   1701.24   \n",
      "3                    Payback        CASH                    224.89   \n",
      "4                    Payback      EDCSBI                  21813.00   \n",
      "...                      ...         ...                       ...   \n",
      "14460          BBSavingsClub      EDCUBI                   5138.50   \n",
      "14461  BBSavingsClub,Payback        CASH                   5933.32   \n",
      "14462          BBSavingsClub      EDCSBI                  10057.33   \n",
      "14463  BBSavingsClub,Payback      EDCSBI                   4618.17   \n",
      "14465          BBSavingsClub        CASH                   7814.10   \n",
      "\n",
      "                PaymentUsed   age  \n",
      "0           UBI CREDIT CARD  45.0  \n",
      "1                      CASH  40.0  \n",
      "2      One MobiKwik Systems  35.0  \n",
      "3                      CASH  33.0  \n",
      "4           SBI CREDIT CARD  44.0  \n",
      "...                     ...   ...  \n",
      "14460       UBI CREDIT CARD  65.0  \n",
      "14461                  CASH  48.0  \n",
      "14462       SBI CREDIT CARD  26.0  \n",
      "14463       SBI CREDIT CARD  61.0  \n",
      "14465                  CASH  36.0  \n",
      "\n",
      "[12687 rows x 14 columns]\n"
     ]
    }
   ],
   "source": [
    "from datetime import datetime, date \n",
    "\n",
    "newdf['DOB'] = pd.to_datetime(newdf.DOB,errors='coerce')\n",
    "\n",
    "def calculate_age(born):\n",
    "    today = date.today()\n",
    "    return today.year - born.year - ((today.month, today.day) < (born.month, born.day))\n",
    "newdf['age']=newdf['DOB'].apply(lambda x: calculate_age(x))\n"
   ]
  },
  {
   "cell_type": "code",
   "execution_count": 86,
   "metadata": {},
   "outputs": [
    {
     "data": {
      "text/html": [
       "<div>\n",
       "<style scoped>\n",
       "    .dataframe tbody tr th:only-of-type {\n",
       "        vertical-align: middle;\n",
       "    }\n",
       "\n",
       "    .dataframe tbody tr th {\n",
       "        vertical-align: top;\n",
       "    }\n",
       "\n",
       "    .dataframe thead th {\n",
       "        text-align: right;\n",
       "    }\n",
       "</style>\n",
       "<table border=\"1\" class=\"dataframe\">\n",
       "  <thead>\n",
       "    <tr style=\"text-align: right;\">\n",
       "      <th></th>\n",
       "      <th>customerID</th>\n",
       "      <th>DOB</th>\n",
       "      <th>Gender</th>\n",
       "      <th>State</th>\n",
       "      <th>transactionDate</th>\n",
       "      <th>store_code</th>\n",
       "      <th>till_no</th>\n",
       "      <th>transaction_number_by_till</th>\n",
       "      <th>promo_code</th>\n",
       "      <th>discountUsed</th>\n",
       "      <th>tender_type</th>\n",
       "      <th>payment_amount_by_tender</th>\n",
       "      <th>PaymentUsed</th>\n",
       "      <th>age</th>\n",
       "    </tr>\n",
       "  </thead>\n",
       "  <tbody>\n",
       "    <tr>\n",
       "      <th>0</th>\n",
       "      <td>BBID_20482</td>\n",
       "      <td>1975-10-20</td>\n",
       "      <td>male</td>\n",
       "      <td>MADHYA PRADESH</td>\n",
       "      <td>2016-05-01</td>\n",
       "      <td>2655</td>\n",
       "      <td>2</td>\n",
       "      <td>85246</td>\n",
       "      <td>1</td>\n",
       "      <td>Payback</td>\n",
       "      <td>EDCUBI</td>\n",
       "      <td>65.00</td>\n",
       "      <td>UBI CREDIT CARD</td>\n",
       "      <td>45.0</td>\n",
       "    </tr>\n",
       "    <tr>\n",
       "      <th>1</th>\n",
       "      <td>BBID_20498</td>\n",
       "      <td>1981-03-19</td>\n",
       "      <td>female</td>\n",
       "      <td>MAHARASHTRA</td>\n",
       "      <td>2015-08-12</td>\n",
       "      <td>2655</td>\n",
       "      <td>13</td>\n",
       "      <td>1064</td>\n",
       "      <td>0</td>\n",
       "      <td>Payback</td>\n",
       "      <td>CASH</td>\n",
       "      <td>768.45</td>\n",
       "      <td>CASH</td>\n",
       "      <td>40.0</td>\n",
       "    </tr>\n",
       "    <tr>\n",
       "      <th>2</th>\n",
       "      <td>BBID_20499</td>\n",
       "      <td>1986-05-10</td>\n",
       "      <td>male</td>\n",
       "      <td>MAHARASHTRA</td>\n",
       "      <td>2016-12-18</td>\n",
       "      <td>2615</td>\n",
       "      <td>14</td>\n",
       "      <td>51080</td>\n",
       "      <td>1</td>\n",
       "      <td>Payback</td>\n",
       "      <td>MOBI</td>\n",
       "      <td>1701.24</td>\n",
       "      <td>One MobiKwik Systems</td>\n",
       "      <td>35.0</td>\n",
       "    </tr>\n",
       "    <tr>\n",
       "      <th>3</th>\n",
       "      <td>BBID_204110</td>\n",
       "      <td>1988-02-29</td>\n",
       "      <td>male</td>\n",
       "      <td>MADHYA PRADESH</td>\n",
       "      <td>2015-12-31</td>\n",
       "      <td>2655</td>\n",
       "      <td>9</td>\n",
       "      <td>21911</td>\n",
       "      <td>0</td>\n",
       "      <td>Payback</td>\n",
       "      <td>CASH</td>\n",
       "      <td>224.89</td>\n",
       "      <td>CASH</td>\n",
       "      <td>33.0</td>\n",
       "    </tr>\n",
       "    <tr>\n",
       "      <th>4</th>\n",
       "      <td>BBID_204149</td>\n",
       "      <td>1977-04-11</td>\n",
       "      <td>male</td>\n",
       "      <td>MAHARASHTRA</td>\n",
       "      <td>2016-11-08</td>\n",
       "      <td>2906</td>\n",
       "      <td>11</td>\n",
       "      <td>33822</td>\n",
       "      <td>0</td>\n",
       "      <td>Payback</td>\n",
       "      <td>EDCSBI</td>\n",
       "      <td>21813.00</td>\n",
       "      <td>SBI CREDIT CARD</td>\n",
       "      <td>44.0</td>\n",
       "    </tr>\n",
       "  </tbody>\n",
       "</table>\n",
       "</div>"
      ],
      "text/plain": [
       "    customerID        DOB  Gender           State transactionDate  store_code  \\\n",
       "0   BBID_20482 1975-10-20    male  MADHYA PRADESH      2016-05-01        2655   \n",
       "1   BBID_20498 1981-03-19  female     MAHARASHTRA      2015-08-12        2655   \n",
       "2   BBID_20499 1986-05-10    male     MAHARASHTRA      2016-12-18        2615   \n",
       "3  BBID_204110 1988-02-29    male  MADHYA PRADESH      2015-12-31        2655   \n",
       "4  BBID_204149 1977-04-11    male     MAHARASHTRA      2016-11-08        2906   \n",
       "\n",
       "   till_no  transaction_number_by_till promo_code discountUsed tender_type  \\\n",
       "0        2                       85246          1      Payback      EDCUBI   \n",
       "1       13                        1064          0      Payback        CASH   \n",
       "2       14                       51080          1      Payback        MOBI   \n",
       "3        9                       21911          0      Payback        CASH   \n",
       "4       11                       33822          0      Payback      EDCSBI   \n",
       "\n",
       "   payment_amount_by_tender           PaymentUsed   age  \n",
       "0                     65.00       UBI CREDIT CARD  45.0  \n",
       "1                    768.45                  CASH  40.0  \n",
       "2                   1701.24  One MobiKwik Systems  35.0  \n",
       "3                    224.89                  CASH  33.0  \n",
       "4                  21813.00       SBI CREDIT CARD  44.0  "
      ]
     },
     "execution_count": 86,
     "metadata": {},
     "output_type": "execute_result"
    }
   ],
   "source": [
    "newdf.head()"
   ]
  },
  {
   "cell_type": "code",
   "execution_count": 87,
   "metadata": {},
   "outputs": [
    {
     "data": {
      "text/plain": [
       "<matplotlib.axes._subplots.AxesSubplot at 0x7fb9004a7c50>"
      ]
     },
     "execution_count": 87,
     "metadata": {},
     "output_type": "execute_result"
    },
    {
     "data": {
      "image/png": "[encoded data removed]",
      "text/plain": [
       "<Figure size 432x288 with 1 Axes>"
      ]
     },
     "metadata": {
      "needs_background": "light"
     },
     "output_type": "display_data"
    }
   ],
   "source": [
    "sns.distplot(newdf['age'])"
   ]
  },
  {
   "cell_type": "markdown",
   "metadata": {},
   "source": [
    "Most of the customers are in the age group 30-50"
   ]
  },
  {
   "cell_type": "code",
   "execution_count": null,
   "metadata": {},
   "outputs": [],
   "source": []
  }
 ],
 "metadata": {
  "kernelspec": {
   "display_name": "Python 3",
   "language": "python",
   "name": "python3"
  },
  "language_info": {
   "codemirror_mode": {
    "name": "ipython",
    "version": 3
   },
   "file_extension": ".py",
   "mimetype": "text/x-python",
   "name": "python",
   "nbconvert_exporter": "python",
   "pygments_lexer": "ipython3",
   "version": "3.7.6"
  }
 },
 "nbformat": 4,
 "nbformat_minor": 4
}
